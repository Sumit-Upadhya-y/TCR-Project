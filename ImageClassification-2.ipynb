{
  "nbformat": 4,
  "nbformat_minor": 0,
  "metadata": {
    "colab": {
      "provenance": []
    },
    "kernelspec": {
      "name": "python3",
      "display_name": "Python 3"
    },
    "language_info": {
      "name": "python"
    }
  },
  "cells": [
    {
      "cell_type": "code",
      "execution_count": 1,
      "metadata": {
        "id": "UFA3EkWs5neY"
      },
      "outputs": [],
      "source": [
        "import tensorflow as tf\n",
        "from tensorflow import keras"
      ]
    },
    {
      "cell_type": "code",
      "source": [
        "# Load the dataset\n",
        "(train_images, train_labels), (test_images, test_labels) = keras.datasets.cifar10.load_data()"
      ],
      "metadata": {
        "colab": {
          "base_uri": "https://localhost:8080/"
        },
        "id": "EqB4MT6M5s_r",
        "outputId": "2d840004-b309-476b-f49d-0dd1c154a777"
      },
      "execution_count": 2,
      "outputs": [
        {
          "output_type": "stream",
          "name": "stdout",
          "text": [
            "Downloading data from https://www.cs.toronto.edu/~kriz/cifar-10-python.tar.gz\n",
            "170498071/170498071 [==============================] - 2s 0us/step\n"
          ]
        }
      ]
    },
    {
      "cell_type": "code",
      "source": [
        "# Preprocess the images\n",
        "train_images = train_images / 255.0\n",
        "test_images = test_images / 255.0"
      ],
      "metadata": {
        "id": "buRFHQ9W50so"
      },
      "execution_count": 3,
      "outputs": []
    },
    {
      "cell_type": "code",
      "source": [
        "# Build the model\n",
        "model = keras.Sequential([\n",
        "    keras.layers.Conv2D(32, (3,3), activation='relu', input_shape=(32, 32, 3)),\n",
        "    keras.layers.MaxPooling2D((2,2)),\n",
        "    keras.layers.Conv2D(64, (3,3), activation='relu'),\n",
        "    keras.layers.MaxPooling2D((2,2)),\n",
        "    keras.layers.Conv2D(64, (3,3), activation='relu'),\n",
        "    keras.layers.Flatten(),\n",
        "    keras.layers.Dense(64, activation='relu'),\n",
        "    keras.layers.Dense(10)\n",
        "])"
      ],
      "metadata": {
        "id": "Z7eXtGWB57Ac"
      },
      "execution_count": 4,
      "outputs": []
    },
    {
      "cell_type": "code",
      "source": [
        "# Train the model\n",
        "model.compile(optimizer='adam', \n",
        "              loss=tf.keras.losses.SparseCategoricalCrossentropy(from_logits=True), \n",
        "              metrics=['accuracy'])\n",
        "model.fit(train_images, train_labels, epochs=10, validation_data=(test_images, test_labels))"
      ],
      "metadata": {
        "colab": {
          "base_uri": "https://localhost:8080/"
        },
        "id": "1Ovh29Mg6ASt",
        "outputId": "802b2696-415c-4452-a425-129c6577408b"
      },
      "execution_count": 5,
      "outputs": [
        {
          "output_type": "stream",
          "name": "stdout",
          "text": [
            "Epoch 1/10\n",
            "1563/1563 [==============================] - 90s 56ms/step - loss: 1.5558 - accuracy: 0.4306 - val_loss: 1.2861 - val_accuracy: 0.5401\n",
            "Epoch 2/10\n",
            "1563/1563 [==============================] - 82s 53ms/step - loss: 1.1939 - accuracy: 0.5742 - val_loss: 1.1193 - val_accuracy: 0.6055\n",
            "Epoch 3/10\n",
            "1563/1563 [==============================] - 83s 53ms/step - loss: 1.0360 - accuracy: 0.6336 - val_loss: 1.0005 - val_accuracy: 0.6530\n",
            "Epoch 4/10\n",
            "1563/1563 [==============================] - 85s 54ms/step - loss: 0.9436 - accuracy: 0.6680 - val_loss: 0.9676 - val_accuracy: 0.6633\n",
            "Epoch 5/10\n",
            "1563/1563 [==============================] - 84s 54ms/step - loss: 0.8751 - accuracy: 0.6909 - val_loss: 0.9463 - val_accuracy: 0.6744\n",
            "Epoch 6/10\n",
            "1563/1563 [==============================] - 83s 53ms/step - loss: 0.8187 - accuracy: 0.7104 - val_loss: 0.8775 - val_accuracy: 0.6975\n",
            "Epoch 7/10\n",
            "1563/1563 [==============================] - 85s 55ms/step - loss: 0.7750 - accuracy: 0.7270 - val_loss: 0.8944 - val_accuracy: 0.6927\n",
            "Epoch 8/10\n",
            "1563/1563 [==============================] - 83s 53ms/step - loss: 0.7294 - accuracy: 0.7441 - val_loss: 0.8617 - val_accuracy: 0.7008\n",
            "Epoch 9/10\n",
            "1563/1563 [==============================] - 90s 58ms/step - loss: 0.6913 - accuracy: 0.7566 - val_loss: 0.8838 - val_accuracy: 0.6979\n",
            "Epoch 10/10\n",
            "1563/1563 [==============================] - 83s 53ms/step - loss: 0.6563 - accuracy: 0.7695 - val_loss: 0.8781 - val_accuracy: 0.7118\n"
          ]
        },
        {
          "output_type": "execute_result",
          "data": {
            "text/plain": [
              "<keras.callbacks.History at 0x7fb28479e370>"
            ]
          },
          "metadata": {},
          "execution_count": 5
        }
      ]
    },
    {
      "cell_type": "code",
      "source": [
        "# Evaluate the model\n",
        "test_loss, test_acc = model.evaluate(test_images, test_labels, verbose=2)\n",
        "print('\\nTest accuracy:', test_acc)"
      ],
      "metadata": {
        "colab": {
          "base_uri": "https://localhost:8080/"
        },
        "id": "VtzIrmZ66CSU",
        "outputId": "49077871-d31e-452a-bbef-ac8d392febef"
      },
      "execution_count": 6,
      "outputs": [
        {
          "output_type": "stream",
          "name": "stdout",
          "text": [
            "313/313 - 4s - loss: 0.8781 - accuracy: 0.7118 - 4s/epoch - 13ms/step\n",
            "\n",
            "Test accuracy: 0.7117999792098999\n"
          ]
        }
      ]
    },
    {
      "cell_type": "code",
      "source": [
        "import matplotlib.pyplot as plt"
      ],
      "metadata": {
        "id": "ny2AI9Rz9R_R"
      },
      "execution_count": 8,
      "outputs": []
    },
    {
      "cell_type": "code",
      "source": [
        "# Using the model to make predictions on new images\n",
        "# Lets test the model on image in traning data set\n",
        "class_names = ['airplane', 'automobile', 'bird', 'cat', 'deer', 'dog', 'frog', 'horse', 'ship', 'truck']\n",
        "plt.imshow(test_images[1001].reshape(32,32,3),cmap=\"Greys\")\n",
        "pred = model.predict(test_images[1001].reshape(1,32,32,3))\n",
        "predicted_labels = [class_names[pred.argmax()] for prediction in pred]\n",
        "print(predicted_labels)"
      ],
      "metadata": {
        "colab": {
          "base_uri": "https://localhost:8080/",
          "height": 300
        },
        "id": "MwhYnW2N8Nj5",
        "outputId": "b781f46f-16e2-453e-b4f7-4a686874c398"
      },
      "execution_count": 23,
      "outputs": [
        {
          "output_type": "stream",
          "name": "stdout",
          "text": [
            "1/1 [==============================] - 0s 126ms/step\n",
            "['airplane']\n"
          ]
        },
        {
          "output_type": "display_data",
          "data": {
            "text/plain": [
              "<Figure size 432x288 with 1 Axes>"
            ],
            "image/png": "[encoded data removed]"
          },
          "metadata": {
            "needs_background": "light"
          }
        }
      ]
    },
    {
      "cell_type": "code",
      "source": [
        "plt.imshow(test_images[3001].reshape(32,32,3),cmap=\"Greys\")\n",
        "pred = model.predict(test_images[3001].reshape(1,32,32,3))\n",
        "predicted_labels = [class_names[pred.argmax()] for prediction in pred]\n",
        "print(predicted_labels)"
      ],
      "metadata": {
        "colab": {
          "base_uri": "https://localhost:8080/",
          "height": 300
        },
        "id": "ls1uNvzXmVrI",
        "outputId": "e554cffe-dee9-446e-8238-196be3e93858"
      },
      "execution_count": 27,
      "outputs": [
        {
          "output_type": "stream",
          "name": "stdout",
          "text": [
            "1/1 [==============================] - 0s 30ms/step\n",
            "['automobile']\n"
          ]
        },
        {
          "output_type": "display_data",
          "data": {
            "text/plain": [
              "<Figure size 432x288 with 1 Axes>"
            ],
            "image/png": "[encoded data removed]"
          },
          "metadata": {
            "needs_background": "light"
          }
        }
      ]
    },
    {
      "cell_type": "code",
      "source": [
        "plt.imshow(test_images[5001].reshape(32,32,3),cmap=\"Greys\")\n",
        "pred = model.predict(test_images[5001].reshape(1,32,32,3))\n",
        "predicted_labels = [class_names[pred.argmax()] for prediction in pred]\n",
        "print(predicted_labels)"
      ],
      "metadata": {
        "colab": {
          "base_uri": "https://localhost:8080/",
          "height": 300
        },
        "id": "0FLBNCNQmaq4",
        "outputId": "fe7ed972-f322-4628-d88c-d638276bc101"
      },
      "execution_count": 26,
      "outputs": [
        {
          "output_type": "stream",
          "name": "stdout",
          "text": [
            "1/1 [==============================] - 0s 33ms/step\n",
            "['frog']\n"
          ]
        },
        {
          "output_type": "display_data",
          "data": {
            "text/plain": [
              "<Figure size 432x288 with 1 Axes>"
            ],
            "image/png": "[encoded data removed]"
          },
          "metadata": {
            "needs_background": "light"
          }
        }
      ]
    },
    {
      "cell_type": "code",
      "source": [
        "plt.imshow(test_images[7001].reshape(32,32,3),cmap=\"Greys\")\n",
        "pred = model.predict(test_images[7001].reshape(1,32,32,3))\n",
        "predicted_labels = [class_names[pred.argmax()] for prediction in pred]\n",
        "print(predicted_labels)"
      ],
      "metadata": {
        "colab": {
          "base_uri": "https://localhost:8080/",
          "height": 300
        },
        "id": "pPLf234smdmQ",
        "outputId": "44ac94e4-10e6-4f0b-8155-95e4fbe76fca"
      },
      "execution_count": 28,
      "outputs": [
        {
          "output_type": "stream",
          "name": "stdout",
          "text": [
            "1/1 [==============================] - 0s 28ms/step\n",
            "['automobile']\n"
          ]
        },
        {
          "output_type": "display_data",
          "data": {
            "text/plain": [
              "<Figure size 432x288 with 1 Axes>"
            ],
            "image/png": "[encoded data removed]"
          },
          "metadata": {
            "needs_background": "light"
          }
        }
      ]
    },
    {
      "cell_type": "code",
      "source": [
        "plt.imshow(test_images[7801].reshape(32,32,3),cmap=\"Greys\")\n",
        "pred = model.predict(test_images[7801].reshape(1,32,32,3))\n",
        "predicted_labels = [class_names[pred.argmax()] for prediction in pred]\n",
        "print(predicted_labels)"
      ],
      "metadata": {
        "colab": {
          "base_uri": "https://localhost:8080/",
          "height": 300
        },
        "id": "WIk7T60HmoH8",
        "outputId": "541fec9e-e1e0-4b0d-cc8b-ec58e30c0d49"
      },
      "execution_count": 31,
      "outputs": [
        {
          "output_type": "stream",
          "name": "stdout",
          "text": [
            "1/1 [==============================] - 0s 31ms/step\n",
            "['deer']\n"
          ]
        },
        {
          "output_type": "display_data",
          "data": {
            "text/plain": [
              "<Figure size 432x288 with 1 Axes>"
            ],
            "image/png": "[encoded data removed]"
          },
          "metadata": {
            "needs_background": "light"
          }
        }
      ]
    },
    {
      "cell_type": "code",
      "source": [],
      "metadata": {
        "id": "m92ecYOamrM0"
      },
      "execution_count": null,
      "outputs": []
    }
  ]
}